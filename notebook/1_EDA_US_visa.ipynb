{
 "cells": [
  {
   "cell_type": "markdown",
   "metadata": {},
   "source": [
    "# US Visa Prediction Project\n",
    "**Life cycle of Machine learning Project**\n",
    "\n",
    "* Understanding the Problem Statement\n",
    "* Data Collection\n",
    "* Exploratory data analysis\n",
    "* Data Cleaning\n",
    "* Data Pre-Processing\n",
    "* Model Training \n",
    "* Choose best model"
   ]
  },
  {
   "cell_type": "markdown",
   "metadata": {},
   "source": [
    "### About\n",
    "The Immigration and Nationality Act (INA) of the US permits foreign workers to come to the United States to work on either a temporary or permanent basis. \n",
    "The act also protects US workers against adverse impacts on working place and maintain requirements when they hire foreign workers to fill workforce shortages. The immigration programs are administered by the Office of Foreign Labor Certification (OFLC)."
   ]
  },
  {
   "cell_type": "markdown",
   "metadata": {},
   "source": [
    "## 1) Problem statement.\n",
    "\n",
    "* OFLC gives job certification applications for employers seeking to bring foreign workers into the United States and grants certifications. \n",
    "* As In last year the count of employees were huge so OFLC needs Machine learning models to shortlist visa applicants based on their previous data.\n",
    "\n",
    "**In this project we are going to use the data given to build a Classification model:**\n",
    "\n",
    "* This model is to check if Visa get approved or not based on the given dataset.\n",
    "* This can be used to Recommend a suitable profile for the applicants for whom the visa should be certified or denied based on the certain criteria which influences the decision."
   ]
  },
  {
   "cell_type": "markdown",
   "metadata": {},
   "source": [
    "## 2) Data Collection.\n",
    "* The Dataset is part of Office of Foreign Labor Certification (OFLC)\n",
    "* The data consists of 25480 Rows and 12 Columns\n",
    "\n",
    "https://www.kaggle.com/datasets/moro23/easyvisa-dataset"
   ]
  },
  {
   "cell_type": "markdown",
   "metadata": {},
   "source": [
    "### 2.1 Import Data and Required Packages"
   ]
  },
  {
   "cell_type": "markdown",
   "metadata": {},
   "source": [
    "**Importing Pandas, Numpy, Matplotlib, Seaborn and Warings Library.**"
   ]
  },
  {
   "cell_type": "code",
   "execution_count": 1,
   "metadata": {},
   "outputs": [],
   "source": [
    "import pandas as pd\n",
    "import numpy as np\n",
    "import matplotlib.pyplot as plt\n",
    "import seaborn as sns\n",
    "import plotly.express as px\n",
    "import warnings\n",
    "\n",
    "warnings.filterwarnings(\"ignore\")\n",
    "\n",
    "%matplotlib inline"
   ]
  },
  {
   "cell_type": "code",
   "execution_count": 5,
   "metadata": {},
   "outputs": [],
   "source": [
    "df = pd.read_csv('Visadataset.csv')"
   ]
  },
  {
   "cell_type": "code",
   "execution_count": 7,
   "metadata": {},
   "outputs": [
    {
     "data": {
      "text/html": [
       "<div>\n",
       "<style scoped>\n",
       "    .dataframe tbody tr th:only-of-type {\n",
       "        vertical-align: middle;\n",
       "    }\n",
       "\n",
       "    .dataframe tbody tr th {\n",
       "        vertical-align: top;\n",
       "    }\n",
       "\n",
       "    .dataframe thead th {\n",
       "        text-align: right;\n",
       "    }\n",
       "</style>\n",
       "<table border=\"1\" class=\"dataframe\">\n",
       "  <thead>\n",
       "    <tr style=\"text-align: right;\">\n",
       "      <th></th>\n",
       "      <th>case_id</th>\n",
       "      <th>continent</th>\n",
       "      <th>education_of_employee</th>\n",
       "      <th>has_job_experience</th>\n",
       "      <th>requires_job_training</th>\n",
       "      <th>no_of_employees</th>\n",
       "      <th>yr_of_estab</th>\n",
       "      <th>region_of_employment</th>\n",
       "      <th>prevailing_wage</th>\n",
       "      <th>unit_of_wage</th>\n",
       "      <th>full_time_position</th>\n",
       "      <th>case_status</th>\n",
       "    </tr>\n",
       "  </thead>\n",
       "  <tbody>\n",
       "    <tr>\n",
       "      <th>0</th>\n",
       "      <td>EZYV01</td>\n",
       "      <td>Asia</td>\n",
       "      <td>High School</td>\n",
       "      <td>N</td>\n",
       "      <td>N</td>\n",
       "      <td>14513</td>\n",
       "      <td>2007</td>\n",
       "      <td>West</td>\n",
       "      <td>592.2029</td>\n",
       "      <td>Hour</td>\n",
       "      <td>Y</td>\n",
       "      <td>Denied</td>\n",
       "    </tr>\n",
       "    <tr>\n",
       "      <th>1</th>\n",
       "      <td>EZYV02</td>\n",
       "      <td>Asia</td>\n",
       "      <td>Master's</td>\n",
       "      <td>Y</td>\n",
       "      <td>N</td>\n",
       "      <td>2412</td>\n",
       "      <td>2002</td>\n",
       "      <td>Northeast</td>\n",
       "      <td>83425.6500</td>\n",
       "      <td>Year</td>\n",
       "      <td>Y</td>\n",
       "      <td>Certified</td>\n",
       "    </tr>\n",
       "    <tr>\n",
       "      <th>2</th>\n",
       "      <td>EZYV03</td>\n",
       "      <td>Asia</td>\n",
       "      <td>Bachelor's</td>\n",
       "      <td>N</td>\n",
       "      <td>Y</td>\n",
       "      <td>44444</td>\n",
       "      <td>2008</td>\n",
       "      <td>West</td>\n",
       "      <td>122996.8600</td>\n",
       "      <td>Year</td>\n",
       "      <td>Y</td>\n",
       "      <td>Denied</td>\n",
       "    </tr>\n",
       "    <tr>\n",
       "      <th>3</th>\n",
       "      <td>EZYV04</td>\n",
       "      <td>Asia</td>\n",
       "      <td>Bachelor's</td>\n",
       "      <td>N</td>\n",
       "      <td>N</td>\n",
       "      <td>98</td>\n",
       "      <td>1897</td>\n",
       "      <td>West</td>\n",
       "      <td>83434.0300</td>\n",
       "      <td>Year</td>\n",
       "      <td>Y</td>\n",
       "      <td>Denied</td>\n",
       "    </tr>\n",
       "    <tr>\n",
       "      <th>4</th>\n",
       "      <td>EZYV05</td>\n",
       "      <td>Africa</td>\n",
       "      <td>Master's</td>\n",
       "      <td>Y</td>\n",
       "      <td>N</td>\n",
       "      <td>1082</td>\n",
       "      <td>2005</td>\n",
       "      <td>South</td>\n",
       "      <td>149907.3900</td>\n",
       "      <td>Year</td>\n",
       "      <td>Y</td>\n",
       "      <td>Certified</td>\n",
       "    </tr>\n",
       "  </tbody>\n",
       "</table>\n",
       "</div>"
      ],
      "text/plain": [
       "  case_id continent education_of_employee has_job_experience  \\\n",
       "0  EZYV01      Asia           High School                  N   \n",
       "1  EZYV02      Asia              Master's                  Y   \n",
       "2  EZYV03      Asia            Bachelor's                  N   \n",
       "3  EZYV04      Asia            Bachelor's                  N   \n",
       "4  EZYV05    Africa              Master's                  Y   \n",
       "\n",
       "  requires_job_training  no_of_employees  yr_of_estab region_of_employment  \\\n",
       "0                     N            14513         2007                 West   \n",
       "1                     N             2412         2002            Northeast   \n",
       "2                     Y            44444         2008                 West   \n",
       "3                     N               98         1897                 West   \n",
       "4                     N             1082         2005                South   \n",
       "\n",
       "   prevailing_wage unit_of_wage full_time_position case_status  \n",
       "0         592.2029         Hour                  Y      Denied  \n",
       "1       83425.6500         Year                  Y   Certified  \n",
       "2      122996.8600         Year                  Y      Denied  \n",
       "3       83434.0300         Year                  Y      Denied  \n",
       "4      149907.3900         Year                  Y   Certified  "
      ]
     },
     "execution_count": 7,
     "metadata": {},
     "output_type": "execute_result"
    }
   ],
   "source": [
    "df.head() #Showing top 5 rows"
   ]
  },
  {
   "cell_type": "code",
   "execution_count": 8,
   "metadata": {},
   "outputs": [
    {
     "data": {
      "text/plain": [
       "(25480, 12)"
      ]
     },
     "execution_count": 8,
     "metadata": {},
     "output_type": "execute_result"
    }
   ],
   "source": [
    "#Shape of the dataset\n",
    "df.shape"
   ]
  },
  {
   "cell_type": "code",
   "execution_count": 11,
   "metadata": {},
   "outputs": [
    {
     "data": {
      "text/html": [
       "<style type=\"text/css\">\n",
       "#T_1b611_row0_col0, #T_1b611_row0_col1, #T_1b611_row0_col2 {\n",
       "  background-color: #471063;\n",
       "  color: #f1f1f1;\n",
       "}\n",
       "#T_1b611_row1_col0 {\n",
       "  background-color: #450457;\n",
       "  color: #f1f1f1;\n",
       "}\n",
       "#T_1b611_row1_col1, #T_1b611_row2_col1, #T_1b611_row3_col0, #T_1b611_row3_col1, #T_1b611_row3_col2, #T_1b611_row4_col0, #T_1b611_row4_col1, #T_1b611_row5_col0, #T_1b611_row5_col1, #T_1b611_row6_col1, #T_1b611_row7_col1 {\n",
       "  background-color: #440154;\n",
       "  color: #f1f1f1;\n",
       "}\n",
       "#T_1b611_row1_col2 {\n",
       "  background-color: #472c7a;\n",
       "  color: #f1f1f1;\n",
       "}\n",
       "#T_1b611_row2_col0 {\n",
       "  background-color: #470e61;\n",
       "  color: #f1f1f1;\n",
       "}\n",
       "#T_1b611_row2_col2 {\n",
       "  background-color: #482071;\n",
       "  color: #f1f1f1;\n",
       "}\n",
       "#T_1b611_row4_col2 {\n",
       "  background-color: #481668;\n",
       "  color: #f1f1f1;\n",
       "}\n",
       "#T_1b611_row5_col2 {\n",
       "  background-color: #482979;\n",
       "  color: #f1f1f1;\n",
       "}\n",
       "#T_1b611_row6_col0 {\n",
       "  background-color: #440256;\n",
       "  color: #f1f1f1;\n",
       "}\n",
       "#T_1b611_row6_col2 {\n",
       "  background-color: #433d84;\n",
       "  color: #f1f1f1;\n",
       "}\n",
       "#T_1b611_row7_col0 {\n",
       "  background-color: #fde725;\n",
       "  color: #000000;\n",
       "}\n",
       "#T_1b611_row7_col2 {\n",
       "  background-color: #1f978b;\n",
       "  color: #f1f1f1;\n",
       "}\n",
       "</style>\n",
       "<table id=\"T_1b611\">\n",
       "  <thead>\n",
       "    <tr>\n",
       "      <th class=\"blank level0\" >&nbsp;</th>\n",
       "      <th id=\"T_1b611_level0_col0\" class=\"col_heading level0 col0\" >no_of_employees</th>\n",
       "      <th id=\"T_1b611_level0_col1\" class=\"col_heading level0 col1\" >yr_of_estab</th>\n",
       "      <th id=\"T_1b611_level0_col2\" class=\"col_heading level0 col2\" >prevailing_wage</th>\n",
       "    </tr>\n",
       "  </thead>\n",
       "  <tbody>\n",
       "    <tr>\n",
       "      <th id=\"T_1b611_level0_row0\" class=\"row_heading level0 row0\" >count</th>\n",
       "      <td id=\"T_1b611_row0_col0\" class=\"data row0 col0\" >25480.000000</td>\n",
       "      <td id=\"T_1b611_row0_col1\" class=\"data row0 col1\" >25480.000000</td>\n",
       "      <td id=\"T_1b611_row0_col2\" class=\"data row0 col2\" >25480.000000</td>\n",
       "    </tr>\n",
       "    <tr>\n",
       "      <th id=\"T_1b611_level0_row1\" class=\"row_heading level0 row1\" >mean</th>\n",
       "      <td id=\"T_1b611_row1_col0\" class=\"data row1 col0\" >5667.043210</td>\n",
       "      <td id=\"T_1b611_row1_col1\" class=\"data row1 col1\" >1979.409929</td>\n",
       "      <td id=\"T_1b611_row1_col2\" class=\"data row1 col2\" >74455.814592</td>\n",
       "    </tr>\n",
       "    <tr>\n",
       "      <th id=\"T_1b611_level0_row2\" class=\"row_heading level0 row2\" >std</th>\n",
       "      <td id=\"T_1b611_row2_col0\" class=\"data row2 col0\" >22877.928848</td>\n",
       "      <td id=\"T_1b611_row2_col1\" class=\"data row2 col1\" >42.366929</td>\n",
       "      <td id=\"T_1b611_row2_col2\" class=\"data row2 col2\" >52815.942327</td>\n",
       "    </tr>\n",
       "    <tr>\n",
       "      <th id=\"T_1b611_level0_row3\" class=\"row_heading level0 row3\" >min</th>\n",
       "      <td id=\"T_1b611_row3_col0\" class=\"data row3 col0\" >-26.000000</td>\n",
       "      <td id=\"T_1b611_row3_col1\" class=\"data row3 col1\" >1800.000000</td>\n",
       "      <td id=\"T_1b611_row3_col2\" class=\"data row3 col2\" >2.136700</td>\n",
       "    </tr>\n",
       "    <tr>\n",
       "      <th id=\"T_1b611_level0_row4\" class=\"row_heading level0 row4\" >25%</th>\n",
       "      <td id=\"T_1b611_row4_col0\" class=\"data row4 col0\" >1022.000000</td>\n",
       "      <td id=\"T_1b611_row4_col1\" class=\"data row4 col1\" >1976.000000</td>\n",
       "      <td id=\"T_1b611_row4_col2\" class=\"data row4 col2\" >34015.480000</td>\n",
       "    </tr>\n",
       "    <tr>\n",
       "      <th id=\"T_1b611_level0_row5\" class=\"row_heading level0 row5\" >50%</th>\n",
       "      <td id=\"T_1b611_row5_col0\" class=\"data row5 col0\" >2109.000000</td>\n",
       "      <td id=\"T_1b611_row5_col1\" class=\"data row5 col1\" >1997.000000</td>\n",
       "      <td id=\"T_1b611_row5_col2\" class=\"data row5 col2\" >70308.210000</td>\n",
       "    </tr>\n",
       "    <tr>\n",
       "      <th id=\"T_1b611_level0_row6\" class=\"row_heading level0 row6\" >75%</th>\n",
       "      <td id=\"T_1b611_row6_col0\" class=\"data row6 col0\" >3504.000000</td>\n",
       "      <td id=\"T_1b611_row6_col1\" class=\"data row6 col1\" >2005.000000</td>\n",
       "      <td id=\"T_1b611_row6_col2\" class=\"data row6 col2\" >107735.512500</td>\n",
       "    </tr>\n",
       "    <tr>\n",
       "      <th id=\"T_1b611_level0_row7\" class=\"row_heading level0 row7\" >max</th>\n",
       "      <td id=\"T_1b611_row7_col0\" class=\"data row7 col0\" >602069.000000</td>\n",
       "      <td id=\"T_1b611_row7_col1\" class=\"data row7 col1\" >2016.000000</td>\n",
       "      <td id=\"T_1b611_row7_col2\" class=\"data row7 col2\" >319210.270000</td>\n",
       "    </tr>\n",
       "  </tbody>\n",
       "</table>\n"
      ],
      "text/plain": [
       "<pandas.io.formats.style.Styler at 0x1c1a5d8c520>"
      ]
     },
     "execution_count": 11,
     "metadata": {},
     "output_type": "execute_result"
    }
   ],
   "source": [
    "#Summary of the data\n",
    "df.describe().style.background_gradient(cmap='viridis', axis=None)"
   ]
  },
  {
   "cell_type": "code",
   "execution_count": 12,
   "metadata": {},
   "outputs": [
    {
     "data": {
      "text/plain": [
       "case_id                   object\n",
       "continent                 object\n",
       "education_of_employee     object\n",
       "has_job_experience        object\n",
       "requires_job_training     object\n",
       "no_of_employees            int64\n",
       "yr_of_estab                int64\n",
       "region_of_employment      object\n",
       "prevailing_wage          float64\n",
       "unit_of_wage              object\n",
       "full_time_position        object\n",
       "case_status               object\n",
       "dtype: object"
      ]
     },
     "execution_count": 12,
     "metadata": {},
     "output_type": "execute_result"
    }
   ],
   "source": [
    "#Checking the datatype \n",
    "df.dtypes"
   ]
  },
  {
   "cell_type": "markdown",
   "metadata": {},
   "source": [
    "### *Exploring the Data*"
   ]
  },
  {
   "cell_type": "code",
   "execution_count": 32,
   "metadata": {},
   "outputs": [
    {
     "name": "stdout",
     "output_type": "stream",
     "text": [
      "We have 9 categorical features-['case_id', 'continent', 'education_of_employee', 'has_job_experience', 'requires_job_training', 'region_of_employment', 'unit_of_wage', 'full_time_position', 'case_status']\n",
      "and\n",
      "3 numeric features-['no_of_employees', 'yr_of_estab', 'prevailing_wage']\n"
     ]
    }
   ],
   "source": [
    "categorical_features = df.select_dtypes('O').columns\n",
    "numeric_features = [i for i in df.columns if i not in categorical_features]\n",
    "print(\"We have {a} categorical features-{c}\\nand\\n{b} numeric features-{d}\".format(a=len(categorical_features),b=len(numeric_features),c = list(categorical_features),d=list(numeric_features)))"
   ]
  },
  {
   "cell_type": "code",
   "execution_count": 37,
   "metadata": {},
   "outputs": [
    {
     "name": "stdout",
     "output_type": "stream",
     "text": [
      "EZYV01       0.000039\n",
      "EZYV16995    0.000039\n",
      "EZYV16993    0.000039\n",
      "EZYV16992    0.000039\n",
      "EZYV16991    0.000039\n",
      "               ...   \n",
      "EZYV8492     0.000039\n",
      "EZYV8491     0.000039\n",
      "EZYV8490     0.000039\n",
      "EZYV8489     0.000039\n",
      "EZYV25480    0.000039\n",
      "Name: case_id, Length: 25480, dtype: float64\n",
      "----------------------\n",
      "Asia             0.661735\n",
      "Europe           0.146468\n",
      "North America    0.129199\n",
      "South America    0.033438\n",
      "Africa           0.021625\n",
      "Oceania          0.007535\n",
      "Name: continent, dtype: float64\n",
      "----------------------\n",
      "Bachelor's     0.401648\n",
      "Master's       0.378100\n",
      "High School    0.134223\n",
      "Doctorate      0.086028\n",
      "Name: education_of_employee, dtype: float64\n",
      "----------------------\n",
      "Y    0.580926\n",
      "N    0.419074\n",
      "Name: has_job_experience, dtype: float64\n",
      "----------------------\n",
      "N    0.884027\n",
      "Y    0.115973\n",
      "Name: requires_job_training, dtype: float64\n",
      "----------------------\n",
      "Northeast    0.282378\n",
      "South        0.275392\n",
      "West         0.258477\n",
      "Midwest      0.169035\n",
      "Island       0.014717\n",
      "Name: region_of_employment, dtype: float64\n",
      "----------------------\n",
      "Year     0.901177\n",
      "Hour     0.084655\n",
      "Week     0.010675\n",
      "Month    0.003493\n",
      "Name: unit_of_wage, dtype: float64\n",
      "----------------------\n",
      "Y    0.89376\n",
      "N    0.10624\n",
      "Name: full_time_position, dtype: float64\n",
      "----------------------\n",
      "Certified    0.667896\n",
      "Denied       0.332104\n",
      "Name: case_status, dtype: float64\n",
      "----------------------\n"
     ]
    }
   ],
   "source": [
    "\n",
    "# proportion of count data on categorical columns\n",
    "for i in categorical_features:\n",
    "    print(df[i].value_counts(normalize=True))\n",
    "    print(\"----------------------\")"
   ]
  },
  {
   "cell_type": "code",
   "execution_count": null,
   "metadata": {},
   "outputs": [],
   "source": []
  }
 ],
 "metadata": {
  "kernelspec": {
   "display_name": "base",
   "language": "python",
   "name": "python3"
  },
  "language_info": {
   "codemirror_mode": {
    "name": "ipython",
    "version": 3
   },
   "file_extension": ".py",
   "mimetype": "text/x-python",
   "name": "python",
   "nbconvert_exporter": "python",
   "pygments_lexer": "ipython3",
   "version": "3.9.15"
  }
 },
 "nbformat": 4,
 "nbformat_minor": 2
}
